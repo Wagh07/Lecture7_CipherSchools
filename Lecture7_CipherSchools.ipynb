{
  "nbformat": 4,
  "nbformat_minor": 0,
  "metadata": {
    "colab": {
      "provenance": []
    },
    "kernelspec": {
      "name": "python3",
      "display_name": "Python 3"
    },
    "language_info": {
      "name": "python"
    }
  },
  "cells": [
    {
      "cell_type": "code",
      "source": [
        "# Operators\n",
        "\n",
        "''' this is an example of\n",
        "arithmetic operators(+ , - , / , * , ** ,% , //)\n",
        "'''\n",
        "\n",
        "a=10\n",
        "b=2\n",
        "\n",
        "print('a+b = ' , a+b)\n",
        "print('a%b = ' , a%b)\n",
        "print('a//b = ' , a//b)\n",
        "print('a**b = ' , a**b)\n",
        "print('a/b = ' , a/b)"
      ],
      "metadata": {
        "colab": {
          "base_uri": "https://localhost:8080/"
        },
        "id": "XjQBLHAjN8uz",
        "outputId": "36d1c38d-11b0-4d0d-e9c6-6568ce98afb8"
      },
      "execution_count": 1,
      "outputs": [
        {
          "output_type": "stream",
          "name": "stdout",
          "text": [
            "a+b =  12\n",
            "a%b =  0\n",
            "a//b =  5\n",
            "a**b =  100\n",
            "a/b =  5.0\n"
          ]
        }
      ]
    },
    {
      "cell_type": "code",
      "source": [
        "''' this is an eg of\n",
        " Logical Operators(& , | , ^ , ~)\n",
        "'''\n",
        "\n",
        "print(5<6 and 6>6)\n",
        "\n",
        "print(not((5<6 and 6>6)))"
      ],
      "metadata": {
        "colab": {
          "base_uri": "https://localhost:8080/"
        },
        "id": "3WwxMxI9FhRN",
        "outputId": "37252a1d-caf8-4eb0-e9c4-5bfb10b3f5b5"
      },
      "execution_count": 3,
      "outputs": [
        {
          "output_type": "stream",
          "name": "stdout",
          "text": [
            "False\n",
            "True\n"
          ]
        }
      ]
    },
    {
      "cell_type": "code",
      "source": [
        "''' Shift Operator\n",
        "'''\n",
        "\n",
        "print(10<<1)\n",
        "\n"
      ],
      "metadata": {
        "colab": {
          "base_uri": "https://localhost:8080/"
        },
        "id": "xnLlTda3GTwa",
        "outputId": "eb4049c8-88d1-43b0-8d72-0e71ac08c7df"
      },
      "execution_count": 4,
      "outputs": [
        {
          "output_type": "stream",
          "name": "stdout",
          "text": [
            "20\n"
          ]
        }
      ]
    },
    {
      "cell_type": "code",
      "source": [
        "''' Assignment Operators ( = , += , -= ..etc)\n",
        "'''\n",
        "\n",
        "x=10\n",
        "x+=10\n",
        "\n",
        "print(x)"
      ],
      "metadata": {
        "colab": {
          "base_uri": "https://localhost:8080/"
        },
        "id": "UU6NXvoVGmaj",
        "outputId": "9f945b6c-0aec-4623-9874-9190307af45a"
      },
      "execution_count": 5,
      "outputs": [
        {
          "output_type": "stream",
          "name": "stdout",
          "text": [
            "20\n"
          ]
        }
      ]
    },
    {
      "cell_type": "code",
      "source": [
        "# Handson Practice .... Swap two Numbers without using the third number\n",
        "\n",
        "a=10\n",
        "b=20\n",
        "\n",
        "a=a^b\n",
        "b=a^b\n",
        "a=a^b\n",
        "\n",
        "print(a,b)\n",
        "\n"
      ],
      "metadata": {
        "colab": {
          "base_uri": "https://localhost:8080/"
        },
        "id": "M1MTLmhyHN9z",
        "outputId": "10620cf0-7537-42b1-9c8e-2aef29e2e6d0"
      },
      "execution_count": 6,
      "outputs": [
        {
          "output_type": "stream",
          "name": "stdout",
          "text": [
            "20 10\n"
          ]
        }
      ]
    },
    {
      "cell_type": "code",
      "source": [
        "# WAP to extract ith bit of a number\n",
        "\n",
        "num=int(input('enter a number: '))\n",
        "\n",
        "i=int(input('enter the ith bit you want to extract: '))\n",
        "\n",
        "mask=1<<i\n",
        "\n",
        "bit=1 if(num&mask>0) else 0\n",
        "\n",
        "print(bit)"
      ],
      "metadata": {
        "colab": {
          "base_uri": "https://localhost:8080/"
        },
        "id": "vkGfZeg_HtjQ",
        "outputId": "1adec9df-accd-4d1f-e8f1-ca25b337c231"
      },
      "execution_count": 7,
      "outputs": [
        {
          "output_type": "stream",
          "name": "stdout",
          "text": [
            "enter a number: 10\n",
            "enter the ith bit you want to extract: 2\n",
            "0\n"
          ]
        }
      ]
    },
    {
      "cell_type": "code",
      "source": [
        "# WAP to find the different Number from given 3 numbers\n",
        "\n",
        "a=5\n",
        "b=3\n",
        "c=5\n",
        "print(a^b^c)\n",
        "\n"
      ],
      "metadata": {
        "colab": {
          "base_uri": "https://localhost:8080/"
        },
        "id": "sHP8fiUJIdpQ",
        "outputId": "35b24e27-1cb7-48b0-c6b8-7f9c39d1b802"
      },
      "execution_count": 8,
      "outputs": [
        {
          "output_type": "stream",
          "name": "stdout",
          "text": [
            "3\n"
          ]
        }
      ]
    }
  ]
}